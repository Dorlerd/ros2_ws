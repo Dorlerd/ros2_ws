{
 "cells": [
  {
   "cell_type": "code",
   "execution_count": 10,
   "id": "b6121fad-a2f0-4bed-9474-f47a6e552982",
   "metadata": {},
   "outputs": [],
   "source": [
    "import filterpy.common\n",
    "import numpy as np\n",
    "dt = 0.01\n",
    "processNoise = 1e-4 \n",
    "b=np.eye(3) "
   ]
  },
  {
   "cell_type": "code",
   "execution_count": 11,
   "id": "31d90811-bf6c-4d45-9590-abf7ab5a42d4",
   "metadata": {},
   "outputs": [],
   "source": [
    "a=np.array(filterpy.common.Q_discrete_white_noise(dim=3, dt=dt, var=processNoise))"
   ]
  },
  {
   "cell_type": "code",
   "execution_count": 12,
   "id": "838f1318-efe3-425f-8a36-e625b3d9718d",
   "metadata": {},
   "outputs": [
    {
     "data": {
      "text/plain": [
       "array([[2.5e-13, 0.0e+00, 0.0e+00],\n",
       "       [0.0e+00, 1.0e-08, 0.0e+00],\n",
       "       [0.0e+00, 0.0e+00, 1.0e-04]])"
      ]
     },
     "execution_count": 12,
     "metadata": {},
     "output_type": "execute_result"
    }
   ],
   "source": [
    "a*b"
   ]
  },
  {
   "cell_type": "code",
   "execution_count": 13,
   "id": "4d95a846-a899-4b82-8f8d-57416305a88f",
   "metadata": {},
   "outputs": [
    {
     "ename": "TypeError",
     "evalue": "only integer scalar arrays can be converted to a scalar index",
     "output_type": "error",
     "traceback": [
      "\u001b[0;31m---------------------------------------------------------------------------\u001b[0m",
      "\u001b[0;31mTypeError\u001b[0m                                 Traceback (most recent call last)",
      "Cell \u001b[0;32mIn [13], line 1\u001b[0m\n\u001b[0;32m----> 1\u001b[0m \u001b[43mnp\u001b[49m\u001b[38;5;241;43m.\u001b[39;49m\u001b[43meye\u001b[49m\u001b[43m(\u001b[49m\u001b[38;5;241;43m3\u001b[39;49m\u001b[43m,\u001b[49m\u001b[43mb\u001b[49m\u001b[43m)\u001b[49m\n",
      "File \u001b[0;32m~/.local/lib/python3.8/site-packages/numpy/lib/twodim_base.py:215\u001b[0m, in \u001b[0;36meye\u001b[0;34m(N, M, k, dtype, order, like)\u001b[0m\n\u001b[1;32m    213\u001b[0m \u001b[38;5;28;01mif\u001b[39;00m M \u001b[38;5;129;01mis\u001b[39;00m \u001b[38;5;28;01mNone\u001b[39;00m:\n\u001b[1;32m    214\u001b[0m     M \u001b[38;5;241m=\u001b[39m N\n\u001b[0;32m--> 215\u001b[0m m \u001b[38;5;241m=\u001b[39m \u001b[43mzeros\u001b[49m\u001b[43m(\u001b[49m\u001b[43m(\u001b[49m\u001b[43mN\u001b[49m\u001b[43m,\u001b[49m\u001b[43m \u001b[49m\u001b[43mM\u001b[49m\u001b[43m)\u001b[49m\u001b[43m,\u001b[49m\u001b[43m \u001b[49m\u001b[43mdtype\u001b[49m\u001b[38;5;241;43m=\u001b[39;49m\u001b[43mdtype\u001b[49m\u001b[43m,\u001b[49m\u001b[43m \u001b[49m\u001b[43morder\u001b[49m\u001b[38;5;241;43m=\u001b[39;49m\u001b[43morder\u001b[49m\u001b[43m)\u001b[49m\n\u001b[1;32m    216\u001b[0m \u001b[38;5;28;01mif\u001b[39;00m k \u001b[38;5;241m>\u001b[39m\u001b[38;5;241m=\u001b[39m M:\n\u001b[1;32m    217\u001b[0m     \u001b[38;5;28;01mreturn\u001b[39;00m m\n",
      "\u001b[0;31mTypeError\u001b[0m: only integer scalar arrays can be converted to a scalar index"
     ]
    }
   ],
   "source": [
    "np.eye(3,b)"
   ]
  },
  {
   "cell_type": "code",
   "execution_count": 18,
   "id": "2e0d706d-de83-4702-8d92-3cabf880ab3f",
   "metadata": {},
   "outputs": [
    {
     "data": {
      "text/plain": [
       "array([[[[1., 0., 0.],\n",
       "         [0., 1., 0.],\n",
       "         [0., 0., 1.]]],\n",
       "\n",
       "\n",
       "       [[[1., 0., 0.],\n",
       "         [0., 1., 0.],\n",
       "         [0., 0., 1.]]]])"
      ]
     },
     "execution_count": 18,
     "metadata": {},
     "output_type": "execute_result"
    }
   ],
   "source": [
    "np.array([[b+0*b],\n",
    " [0*b+b]])"
   ]
  },
  {
   "cell_type": "code",
   "execution_count": 25,
   "id": "f592b31d-2eb1-41c6-88b4-a91641727a98",
   "metadata": {},
   "outputs": [
    {
     "data": {
      "text/plain": [
       "array([[2.5e-13, 5.0e-11, 5.0e-09, 0.0e+00, 0.0e+00, 0.0e+00, 0.0e+00,\n",
       "        0.0e+00, 0.0e+00],\n",
       "       [5.0e-11, 1.0e-08, 1.0e-06, 0.0e+00, 0.0e+00, 0.0e+00, 0.0e+00,\n",
       "        0.0e+00, 0.0e+00],\n",
       "       [5.0e-09, 1.0e-06, 1.0e-04, 0.0e+00, 0.0e+00, 0.0e+00, 0.0e+00,\n",
       "        0.0e+00, 0.0e+00],\n",
       "       [0.0e+00, 0.0e+00, 0.0e+00, 2.5e-13, 5.0e-11, 5.0e-09, 0.0e+00,\n",
       "        0.0e+00, 0.0e+00],\n",
       "       [0.0e+00, 0.0e+00, 0.0e+00, 5.0e-11, 1.0e-08, 1.0e-06, 0.0e+00,\n",
       "        0.0e+00, 0.0e+00],\n",
       "       [0.0e+00, 0.0e+00, 0.0e+00, 5.0e-09, 1.0e-06, 1.0e-04, 0.0e+00,\n",
       "        0.0e+00, 0.0e+00],\n",
       "       [0.0e+00, 0.0e+00, 0.0e+00, 0.0e+00, 0.0e+00, 0.0e+00, 2.5e-13,\n",
       "        5.0e-11, 5.0e-09],\n",
       "       [0.0e+00, 0.0e+00, 0.0e+00, 0.0e+00, 0.0e+00, 0.0e+00, 5.0e-11,\n",
       "        1.0e-08, 1.0e-06],\n",
       "       [0.0e+00, 0.0e+00, 0.0e+00, 0.0e+00, 0.0e+00, 0.0e+00, 5.0e-09,\n",
       "        1.0e-06, 1.0e-04]])"
      ]
     },
     "execution_count": 25,
     "metadata": {},
     "output_type": "execute_result"
    }
   ],
   "source": [
    "np.kron(np.eye(3),filterpy.common.Q_discrete_white_noise(dim=3,dt=dt,var=processNoise))"
   ]
  },
  {
   "cell_type": "code",
   "execution_count": 24,
   "id": "f46d516f-54a8-415a-b2b9-7f24811d7ffa",
   "metadata": {},
   "outputs": [
    {
     "data": {
      "text/plain": [
       "array([[2.5e-13, 5.0e-11, 5.0e-09, 0.0e+00, 0.0e+00, 0.0e+00, 0.0e+00,\n",
       "        0.0e+00, 0.0e+00],\n",
       "       [5.0e-11, 1.0e-08, 1.0e-06, 0.0e+00, 0.0e+00, 0.0e+00, 0.0e+00,\n",
       "        0.0e+00, 0.0e+00],\n",
       "       [5.0e-09, 1.0e-06, 1.0e-04, 0.0e+00, 0.0e+00, 0.0e+00, 0.0e+00,\n",
       "        0.0e+00, 0.0e+00],\n",
       "       [0.0e+00, 0.0e+00, 0.0e+00, 2.5e-13, 5.0e-11, 5.0e-09, 0.0e+00,\n",
       "        0.0e+00, 0.0e+00],\n",
       "       [0.0e+00, 0.0e+00, 0.0e+00, 5.0e-11, 1.0e-08, 1.0e-06, 0.0e+00,\n",
       "        0.0e+00, 0.0e+00],\n",
       "       [0.0e+00, 0.0e+00, 0.0e+00, 5.0e-09, 1.0e-06, 1.0e-04, 0.0e+00,\n",
       "        0.0e+00, 0.0e+00],\n",
       "       [0.0e+00, 0.0e+00, 0.0e+00, 0.0e+00, 0.0e+00, 0.0e+00, 2.5e-13,\n",
       "        5.0e-11, 5.0e-09],\n",
       "       [0.0e+00, 0.0e+00, 0.0e+00, 0.0e+00, 0.0e+00, 0.0e+00, 5.0e-11,\n",
       "        1.0e-08, 1.0e-06],\n",
       "       [0.0e+00, 0.0e+00, 0.0e+00, 0.0e+00, 0.0e+00, 0.0e+00, 5.0e-09,\n",
       "        1.0e-06, 1.0e-04]])"
      ]
     },
     "execution_count": 24,
     "metadata": {},
     "output_type": "execute_result"
    }
   ],
   "source": [
    "b"
   ]
  },
  {
   "cell_type": "code",
   "execution_count": null,
   "id": "7b60361c-37bb-4daf-a084-43f9992c6d8a",
   "metadata": {},
   "outputs": [],
   "source": []
  }
 ],
 "metadata": {
  "kernelspec": {
   "display_name": "Python 3 (ipykernel)",
   "language": "python",
   "name": "python3"
  },
  "language_info": {
   "codemirror_mode": {
    "name": "ipython",
    "version": 3
   },
   "file_extension": ".py",
   "mimetype": "text/x-python",
   "name": "python",
   "nbconvert_exporter": "python",
   "pygments_lexer": "ipython3",
   "version": "3.8.10"
  }
 },
 "nbformat": 4,
 "nbformat_minor": 5
}
